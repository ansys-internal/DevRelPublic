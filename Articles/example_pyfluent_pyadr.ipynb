{
 "cells": [
  {
   "cell_type": "markdown",
   "metadata": {},
   "source": [
    "# A Guide to Streamlining CFD Simulations and Reporting with Ansys Fluent, Dynamic Reporting, and PyAnsys."
   ]
  },
  {
   "cell_type": "markdown",
   "metadata": {},
   "source": [
    "## Prerequisite\n",
    "\n",
    "- [Ansys Fluent](https://www.ansys.com/products/fluids/ansys-fluent)\n",
    "- [Ansys Dynamic Reporting](https://nexusdemo.ensight.com/docs/en/html/Nexus.html)\n",
    "- [Pyfluent](https://pypi.org/project/ansys-fluent-core/) \n",
    "- [PyDynamicReporting](https://pypi.org/project/ansys-dynamicreporting-core/)"
   ]
  },
  {
   "cell_type": "markdown",
   "metadata": {},
   "source": [
    "1. **Install Python (if not already installed):**\n",
    "   \n",
    "   Ensure you have Python installed on your system. You can download Python from the [official website](https://www.python.org/downloads/).  The recommended version for the setup is [Python 3.10](https://www.python.org/downloads/) \n",
    "\n",
    "2. **Create a virtual environment (if not already installed):**\n",
    "   \n",
    "   ```\n",
    "      python -m venv .venv      \n",
    "   ```\n",
    "\n",
    "3. **Activate the virtual environment:**\n",
    "\n",
    "  * For Windows CMD:\n",
    "\n",
    "    ```bash\n",
    "\n",
    "      .venv\\Scripts\\activate.bat\n",
    "    ```\n",
    "\n",
    "  * For Windows Powershell:\n",
    "\n",
    "    ```bash\n",
    "\n",
    "      .venv\\Scripts\\Activate.ps1\n",
    "    ```\n",
    "\n",
    "From now on, all the commands must be executed within the virtual environment."
   ]
  },
  {
   "cell_type": "markdown",
   "metadata": {},
   "source": [
    "## Fluent Simulation Workflow for Example Case\n",
    "\n",
    "### Reading Ansys Fluent Simulation data using PyFluent."
   ]
  },
  {
   "cell_type": "markdown",
   "metadata": {},
   "source": [
    "**Install PyFluent & PyADR modules**"
   ]
  },
  {
   "cell_type": "markdown",
   "metadata": {},
   "source": [
    "Before that upgrade pip"
   ]
  },
  {
   "cell_type": "code",
   "execution_count": null,
   "metadata": {},
   "outputs": [],
   "source": [
    "!pip install --upgrade pip "
   ]
  },
  {
   "cell_type": "code",
   "execution_count": null,
   "metadata": {},
   "outputs": [],
   "source": [
    "!pip install ansys-fluent-core\n",
    "!pip install ansys-dynamicreporting-core"
   ]
  },
  {
   "cell_type": "markdown",
   "metadata": {},
   "source": [
    "**Import required libraries/modules**"
   ]
  },
  {
   "cell_type": "code",
   "execution_count": null,
   "metadata": {},
   "outputs": [],
   "source": [
    "from pathlib import Path\n",
    "import ansys.fluent.core as pyfluent\n",
    "from ansys.fluent.core import examples"
   ]
  },
  {
   "cell_type": "markdown",
   "metadata": {},
   "source": [
    "**Downloading cas/dat file**"
   ]
  },
  {
   "cell_type": "code",
   "execution_count": null,
   "metadata": {},
   "outputs": [],
   "source": [
    "save_path = Path(pyfluent.EXAMPLES_PATH)\n",
    "\n",
    "import_filename = examples.download_file(\n",
    "    \"mixing_elbow.cas.h5\",\n",
    "    \"pyfluent/mixing_elbow\",\n",
    ")  \n",
    "\n",
    "examples.download_file(\n",
    "    \"mixing_elbow.dat.h5\",\n",
    "    \"pyfluent/mixing_elbow\",\n",
    "    save_path=save_path,\n",
    ")"
   ]
  },
  {
   "cell_type": "markdown",
   "metadata": {},
   "source": [
    "**Launch Fluent session**"
   ]
  },
  {
   "cell_type": "code",
   "execution_count": null,
   "metadata": {},
   "outputs": [],
   "source": [
    "session = pyfluent.launch_fluent(\n",
    "    show_gui=True, processor_count=4, product_version=\"23.1.0\"\n",
    ")"
   ]
  },
  {
   "cell_type": "markdown",
   "metadata": {},
   "source": [
    "**Reading case and data file**"
   ]
  },
  {
   "cell_type": "code",
   "execution_count": null,
   "metadata": {},
   "outputs": [],
   "source": [
    "session.file.read_case_data(file_type='case-data', file_name=import_filename)"
   ]
  },
  {
   "cell_type": "markdown",
   "metadata": {},
   "source": [
    "**Create a velocity vectors**"
   ]
  },
  {
   "cell_type": "code",
   "execution_count": null,
   "metadata": {},
   "outputs": [],
   "source": [
    "session.results.graphics.vector[\"velocity_vector_symmetry\"] = {}\n",
    "session.results.graphics.vector[\"velocity_vector_symmetry\"].print_state()\n",
    "session.results.graphics.vector[\"velocity_vector_symmetry\"].field = \"temperature\"\n",
    "session.results.graphics.vector[\"velocity_vector_symmetry\"].surfaces_list = [\n",
    "    \"symmetry-xyplane\",\n",
    "]\n",
    "session.results.graphics.vector[\"velocity_vector_symmetry\"].scale.scale_f = 4\n",
    "session.results.graphics.vector[\"velocity_vector_symmetry\"].style = \"arrow\""
   ]
  },
  {
   "cell_type": "markdown",
   "metadata": {},
   "source": [
    "**Generate the Report using the PyFluent API**"
   ]
  },
  {
   "cell_type": "code",
   "execution_count": null,
   "metadata": {},
   "outputs": [],
   "source": [
    "session.report.simulation_reports.generate_simulation_report(\n",
    "    report_name=\"Mixing elbow simulation\"\n",
    ")\n",
    "session.report.simulation_reports.export_simulation_report_as_pdf(\n",
    "    report_name=\"Mixing elbow simulation\", file_name_path=save_path\n",
    ")"
   ]
  },
  {
   "cell_type": "markdown",
   "metadata": {},
   "source": [
    "**Close the Ansys Fluent Session**"
   ]
  },
  {
   "cell_type": "code",
   "execution_count": null,
   "metadata": {},
   "outputs": [],
   "source": [
    "session.exit()"
   ]
  },
  {
   "cell_type": "markdown",
   "metadata": {},
   "source": [
    "With the above steps, the process of accessing simulation data and initiating an Ansys Fluent session using PyFluent is discussed. This includes creating a velocity contour at the symmetry plane and generating a comprehensive simulation report using Ansys Dynamic Reporting. Furthermore, exporting this report as a PDF is demonstrated. The subsequent section guides users through utilizing PyDynamic Reporting to connect with FluentReportServer and obtain the report URL, enabling its integration with any framework using an iframe source.\n",
    "\n",
    ">**Note:** The FluentReportServer directory is created by Ansys Fluent at current working directory. It contains the Ansys Dynamic Reporting database and relevant database files."
   ]
  },
  {
   "cell_type": "markdown",
   "metadata": {},
   "source": [
    "## Ansys PyDynamicReporting Workflow"
   ]
  },
  {
   "cell_type": "markdown",
   "metadata": {},
   "source": [
    "### Connecting with FluentReportServer (ADR Service) using PyDynamicReporting library"
   ]
  },
  {
   "cell_type": "markdown",
   "metadata": {},
   "source": [
    "**Import required libraries/modules**"
   ]
  },
  {
   "cell_type": "code",
   "execution_count": null,
   "metadata": {},
   "outputs": [],
   "source": [
    "from pathlib import Path\n",
    "import ansys.dynamicreporting.core as adr"
   ]
  },
  {
   "cell_type": "markdown",
   "metadata": {},
   "source": [
    "**Connect to Fluent Report Server (ADR Service)**"
   ]
  },
  {
   "cell_type": "code",
   "execution_count": null,
   "metadata": {},
   "outputs": [],
   "source": [
    "data_base_ref = r'FluentReportServer'\n",
    "ansys_installation = r\"C:\\Program Files\\ANSYS Inc\\v231\"\n",
    "\n",
    "adr_service = adr.Service(\n",
    "    ansys_installation=ansys_installation,\n",
    "    db_directory=data_base_ref,\n",
    ")\n",
    "session_guid = adr_service.start(create_db=False)"
   ]
  },
  {
   "cell_type": "markdown",
   "metadata": {},
   "source": [
    "**Get the port of ADR service and server object for Report Updates**"
   ]
  },
  {
   "cell_type": "code",
   "execution_count": null,
   "metadata": {},
   "outputs": [],
   "source": [
    "adr_service._port\n",
    "server = adr_service.serverobj"
   ]
  },
  {
   "cell_type": "markdown",
   "metadata": {},
   "source": [
    "**Updating the existing report template**\n",
    "\n",
    "Here, updating the Organizations branding logo and creating data item for it, adding title, Table of Contents. "
   ]
  },
  {
   "cell_type": "code",
   "execution_count": null,
   "metadata": {},
   "outputs": [],
   "source": [
    "## Place here the name of the top-level report\n",
    "myr = adr_service.get_report(\"Mixing elbow simulation\")\n",
    "root_template = myr.report\n",
    "report_tags = root_template.get_tags()\n",
    "\n",
    "template_0=server.create_template(name=\"Top\", parent=root_template, report_type=\"Layout:panel\")\n",
    "template_0.params='{\"properties\": {\"TOCItem\": \"0\"}}'\n",
    "template_0.set_tags(report_tags)\n",
    "server.put_objects(template_0)\n",
    "server.put_objects(root_template)\n",
    "\n",
    "template_1=server.create_template(name=\"Logo\", parent=template_0, report_type=\"Layout:basic\")\n",
    "template_1.params='{\"properties\": {\"TOCItem\": \"0\"}}'\n",
    "template_1.set_filter(\"A|i_type|eq|image;A|i_name|eq|UserLogo;\")\n",
    "template_1.set_tags(report_tags)\n",
    "server.put_objects(template_1)\n",
    "server.put_objects(template_0)\n",
    "server.put_objects(root_template)\n",
    "\n",
    "template_2=server.create_template(name=\"Title\", parent=template_0, report_type=\"Layout:basic\")\n",
    "template_2.params='{\"properties\": {\"TOCItem\": \"0\"}}'\n",
    "template_2.set_filter(\"A|i_type|eq|html;A|i_name|eq|ReportTitle;\")\n",
    "template_2.set_tags(report_tags)\n",
    "server.put_objects(template_2)\n",
    "server.put_objects(template_0)\n",
    "server.put_objects(root_template)\n",
    "\n",
    "template_3=server.create_template(name=\"Header\", parent=template_0, report_type=\"Layout:basic\")\n",
    "template_3.params='{\"properties\": {\"TOCItem\": \"0\"}, \"HTML\": \"\", \"skip_empty\": 1}'\n",
    "template_3.set_filter(\"A|i_type|eq|table;A|i_name|eq|HeaderTableItem;\")\n",
    "template_3.set_tags(report_tags)\n",
    "server.put_objects(template_3)\n",
    "server.put_objects(template_0)\n",
    "server.put_objects(root_template)\n",
    "\n",
    "template_4=server.create_template(name=\"Table of Contents\", parent=template_0, report_type=\"Layout:toc\")\n",
    "template_4.params='{\"HTML\": \"<h3>Table of Contents</h3>\", \"TOCitems\": 1, \"TOCtables\": 0, \"TOCfigures\": 0}'\n",
    "template_4.set_filter(\"A|i_name|cont|_nothing_selected_;\")\n",
    "template_4.set_tags(report_tags)\n",
    "server.put_objects(template_4)\n",
    "server.put_objects(template_0)\n",
    "server.put_objects(root_template)\n",
    "\n",
    "# Re-order the template children so the new one goes on top\n",
    "root_template.children_order = template_0.guid+',' + root_template.children_order.replace(template_0.guid+',', '')\n",
    "root_template.reorder_children()\n",
    "server.put_objects(root_template)\n",
    "\n",
    "\n",
    "## Now add the Logo the customer wants to use\n",
    "logo_img = adr_service.create_item(obj_name='UserLogo')\n",
    "logo_img.item.dataset = report_tags.split('=')[-1]\n",
    "logo_img.item_image = r'logo.png'"
   ]
  },
  {
   "cell_type": "markdown",
   "metadata": {},
   "source": [
    ">**Note:** Use any image file to upload as logo to create item_image, recommended to use PNG, JPEG format."
   ]
  },
  {
   "cell_type": "markdown",
   "metadata": {},
   "source": [
    "**Get the URL of the report**"
   ]
  },
  {
   "cell_type": "code",
   "execution_count": null,
   "metadata": {},
   "outputs": [],
   "source": [
    "report_url = adr_service.get_report(\"Mixing elbow simulation\")\n",
    "report_url.get_url()"
   ]
  },
  {
   "cell_type": "markdown",
   "metadata": {},
   "source": [
    "The URL returned by the ADR service can be easily embedded with any frontend technology.\n",
    "\n",
    "e.g., with Plotly Dash\n",
    "\n",
    "To create a simple Dash web application that renders a URL with an iframe using Dash Bootstrap Components (dbc), you'll need to have Dash and dbc installed. You can install them using pip if you haven't already:"
   ]
  },
  {
   "cell_type": "markdown",
   "metadata": {},
   "source": [
    "**Install Plotly Dash**"
   ]
  },
  {
   "cell_type": "code",
   "execution_count": null,
   "metadata": {},
   "outputs": [],
   "source": [
    "!pip install dash \n",
    "!pip install dash-bootstrap-components"
   ]
  },
  {
   "cell_type": "markdown",
   "metadata": {},
   "source": [
    "**Ploty Dash Example to show case embedded ADR report using URL obtained from ADR Server**"
   ]
  },
  {
   "cell_type": "code",
   "execution_count": null,
   "metadata": {},
   "outputs": [],
   "source": [
    "import dash\n",
    "import dash_bootstrap_components as dbc\n",
    "from dash import html, dcc\n",
    "\n",
    "app = dash.Dash(__name__, external_stylesheets=[dbc.themes.BOOTSTRAP])\n",
    "\n",
    "app.layout = html.Div([\n",
    "    dbc.Card(\n",
    "        [\n",
    "            html.H1(\"Report Viewer\", className=\"display-3\"),\n",
    "            html.P(\n",
    "                \"Enter a URL to render it in an iframe below:\",\n",
    "                className=\"lead\",\n",
    "            ),\n",
    "            dcc.Input(id=\"url-input\", type=\"text\", placeholder=\"Enter URL\"),\n",
    "            html.Div(id=\"iframe-container\"),\n",
    "        ],\n",
    "    )\n",
    "])\n",
    "\n",
    "@app.callback(\n",
    "    dash.dependencies.Output(\"iframe-container\", \"children\"),\n",
    "    [dash.dependencies.Input(\"url-input\", \"value\")]\n",
    ")\n",
    "def update_iframe(url):\n",
    "    if url:\n",
    "        return html.Iframe(src=url, width=\"100%\", height=\"500\")\n",
    "    return html.Div()\n",
    "\n",
    "if __name__ == '__main__':\n",
    "    app.run_server(debug=True)"
   ]
  },
  {
   "cell_type": "markdown",
   "metadata": {},
   "source": [
    "Save this code in a Python file (e.g., app.py) and run it. You can access the web application in your browser at http://localhost:8050, and it will allow you to enter a URL to render in an iframe."
   ]
  },
  {
   "cell_type": "markdown",
   "metadata": {},
   "source": [
    "**Stop ADR Service**"
   ]
  },
  {
   "cell_type": "code",
   "execution_count": null,
   "metadata": {},
   "outputs": [],
   "source": [
    "adr_service.stop()"
   ]
  },
  {
   "cell_type": "markdown",
   "metadata": {},
   "source": [
    "## Conclusion\n",
    "\n",
    "The integration of Ansys Fluent, Ansys Dynamic Reporting, and their respective client libraries, PyFluent and PyDynamicReporting, not only simplifies simulation and reporting processes but also offers numerous application and integration opportunities. By exporting reports in different formats, users can tailor the generated insights to suit their particular requirements, such as interactive web applications, widespread insight sharing, SaaS applications, or sophisticated data analytics. These tools enable engineers and researchers to fully utilize their simulation data in today's technology-driven world."
   ]
  },
  {
   "cell_type": "markdown",
   "metadata": {},
   "source": [
    "## Additional Resources\n",
    "[Ansys Fluent](https://www.ansys.com/products/fluids/ansys-fluent)\n",
    "\n",
    "[Ansys PyFluent Documentation](https://fluent.docs.pyansys.com/version/stable)\n",
    "\n",
    "[Ansys PyDynamic Reporting Documentation](https://dynamicreporting.docs.pyansys.com/version/stable/)\n",
    "\n",
    "[Plotly Dash](https://dash.plotly.com/)"
   ]
  }
 ],
 "metadata": {
  "kernelspec": {
   "display_name": ".venv",
   "language": "python",
   "name": "python3"
  },
  "language_info": {
   "codemirror_mode": {
    "name": "ipython",
    "version": 3
   },
   "file_extension": ".py",
   "mimetype": "text/x-python",
   "name": "python",
   "nbconvert_exporter": "python",
   "pygments_lexer": "ipython3",
   "version": "3.10.10"
  },
  "orig_nbformat": 4
 },
 "nbformat": 4,
 "nbformat_minor": 2
}
